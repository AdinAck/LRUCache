{
 "cells": [
  {
   "attachments": {},
   "cell_type": "markdown",
   "metadata": {},
   "source": [
    "# LRU cache\n",
    "\n",
    "This repo includes two new structures:\n",
    "\n",
    "## LRUCache\n",
    "\n",
    "This structure provides a generic, performant LRU cache for use with any hashable key and any value, of a specified size.\n",
    "\n",
    "The public interface is documented in the structure, and accessible via `help(LRUCache)`\n",
    "\n",
    "## Cached\n",
    "\n",
    "This structure provides an abstraction of the `LRUCache` to apply it to any `Callable` type (function, or functor, etc.).\n",
    "\n",
    "Refer to the **Examples** section for examples."
   ]
  },
  {
   "attachments": {},
   "cell_type": "markdown",
   "metadata": {},
   "source": [
    "# Setup\n",
    "\n",
    "- Python >= 3.10\n",
    "- No third party libraries"
   ]
  },
  {
   "attachments": {},
   "cell_type": "markdown",
   "metadata": {},
   "source": [
    "# Examples"
   ]
  },
  {
   "attachments": {},
   "cell_type": "markdown",
   "metadata": {},
   "source": [
    "## LRUCache"
   ]
  },
  {
   "cell_type": "code",
   "execution_count": 1,
   "metadata": {},
   "outputs": [],
   "source": [
    "from LRUCache import LRUCache"
   ]
  },
  {
   "cell_type": "code",
   "execution_count": null,
   "metadata": {},
   "outputs": [],
   "source": [
    "# fibonacci sequence via recursion\n",
    "def fib(n: int):\n",
    "    if n <= 1:\n",
    "        return n\n",
    "    \n",
    "    return fib(n - 2) + fib(n - 1)\n",
    "\n",
    "# if you try this it will run forever and utilize 100% CPU\n",
    "fib(100)"
   ]
  },
  {
   "cell_type": "code",
   "execution_count": 2,
   "metadata": {},
   "outputs": [
    {
     "data": {
      "text/plain": [
       "354224848179261915075"
      ]
     },
     "execution_count": 2,
     "metadata": {},
     "output_type": "execute_result"
    }
   ],
   "source": [
    "# so we can fix this with an LRU cache\n",
    "\n",
    "cache = LRUCache(size = 2) # we only need to remember two values\n",
    "\n",
    "def fib(n: int):\n",
    "    if n<= 1:\n",
    "        return n\n",
    "    \n",
    "    if not cache.contains(n):\n",
    "        cache.put(n, fib(n - 2) + fib(n - 1)) # the order of these fib calls matters\n",
    "    \n",
    "    return cache.get(n)\n",
    "\n",
    "fib(100)"
   ]
  },
  {
   "attachments": {},
   "cell_type": "markdown",
   "metadata": {},
   "source": [
    "## Cached\n",
    "\n",
    "This is great and all, but we had to change our algorithm in order to reap the benefits of an LRU cache.\n",
    "\n",
    "Wouldn't it be nice if this could be done for us?"
   ]
  },
  {
   "cell_type": "code",
   "execution_count": 3,
   "metadata": {},
   "outputs": [],
   "source": [
    "from Cached import Cached"
   ]
  },
  {
   "cell_type": "code",
   "execution_count": 4,
   "metadata": {},
   "outputs": [
    {
     "data": {
      "text/plain": [
       "354224848179261915075"
      ]
     },
     "execution_count": 4,
     "metadata": {},
     "output_type": "execute_result"
    }
   ],
   "source": [
    "# let's get the original fib function from earlier\n",
    "\n",
    "@Cached(size = 2) # all you have to do is put this here!\n",
    "def fib(n: int):\n",
    "    if n <= 1:\n",
    "        return n\n",
    "    \n",
    "    return fib(n - 2) + fib(n - 1)\n",
    "\n",
    "fib(100)"
   ]
  },
  {
   "attachments": {},
   "cell_type": "markdown",
   "metadata": {},
   "source": [
    "# Tests"
   ]
  },
  {
   "cell_type": "code",
   "execution_count": 5,
   "metadata": {},
   "outputs": [
    {
     "name": "stdout",
     "output_type": "stream",
     "text": [
      "[0] keep_size test: PASS\n",
      "[1] zero_size test: PASS\n",
      "[2] lru test: PASS\n",
      "[3] value_store test: PASS\n",
      "[4] args test: PASS\n",
      "[5] kwargs test: PASS\n",
      "All tests passed!\n"
     ]
    }
   ],
   "source": [
    "from Cached import Cached\n",
    "\n",
    "# will also run tests for LRUCache\n",
    "Cached.run_tests()"
   ]
  }
 ],
 "metadata": {
  "kernelspec": {
   "display_name": "base",
   "language": "python",
   "name": "python3"
  },
  "language_info": {
   "codemirror_mode": {
    "name": "ipython",
    "version": 3
   },
   "file_extension": ".py",
   "mimetype": "text/x-python",
   "name": "python",
   "nbconvert_exporter": "python",
   "pygments_lexer": "ipython3",
   "version": "3.10.5"
  },
  "orig_nbformat": 4
 },
 "nbformat": 4,
 "nbformat_minor": 2
}
